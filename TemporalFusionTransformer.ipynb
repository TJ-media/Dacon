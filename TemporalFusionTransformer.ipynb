{
  "nbformat": 4,
  "nbformat_minor": 0,
  "metadata": {
    "colab": {
      "provenance": []
    },
    "kernelspec": {
      "name": "python3",
      "display_name": "Python 3"
    },
    "language_info": {
      "name": "python"
    }
  },
  "cells": [
    {
      "cell_type": "code",
      "source": [
        "predictor_tg = TimeSeriesPredictor(\n",
        "    prediction_length=28,\n",
        "    target=\"price(원/kg)\",\n",
        "    eval_metric=\"RMSE\",\n",
        "    path='autogluon_tg_models',  # 모델 저장 경로\n",
        ")\n",
        "\n",
        "predictor_tg.fit(\n",
        "    tg_data,  # 훈련 데이터셋\n",
        "    hyperparameters={\n",
        "        \"TemporalFusionTransformer\": {\n",
        "            'context_length': 60,  # 과거 값을 사용하는 기간 길이\n",
        "            'epochs': 50,  # 훈련 에포크 수\n",
        "            'learning_rate': 1e-3,  # 학습률\n",
        "            'hidden_dim': 32,  # LSTM 및 트랜스포머의 hidden state 크기\n",
        "            'variable_dim': 32,  # 특성 임베딩 크기\n",
        "            'num_heads': 4,  # 어텐션 헤드의 수\n",
        "            'dropout_rate': 0.1,  # 드롭아웃 비율\n",
        "            # 추가적인 하이퍼파라미터 설정 가능\n",
        "        }\n",
        "    },\n",
        "    random_seed=42,\n",
        "    enable_ensemble=True\n",
        ")"
      ],
      "metadata": {
        "id": "uvCykNvmE6yA"
      },
      "execution_count": null,
      "outputs": []
    }
  ]
}
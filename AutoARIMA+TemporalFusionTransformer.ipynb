{
  "nbformat": 4,
  "nbformat_minor": 0,
  "metadata": {
    "colab": {
      "provenance": []
    },
    "kernelspec": {
      "name": "python3",
      "display_name": "Python 3"
    },
    "language_info": {
      "name": "python"
    }
  },
  "cells": [
    {
      "cell_type": "code",
      "source": [
        "predictor_tg = TimeSeriesPredictor(\n",
        "    prediction_length=28,\n",
        "    target=\"price(원/kg)\",\n",
        "    eval_metric=\"RMSE\",\n",
        "    path='autogluon_tg_models',  # 모델 저장 경로\n",
        ")\n",
        "\n",
        "predictor_tg.fit(\n",
        "    tg_data,  # TG 데이터셋을 훈련 데이터로 사용\n",
        "    hyperparameters={\n",
        "        \"AutoARIMA\": {},  # AutoARIMAModel을 기본 설정으로 사용\n",
        "        \"TemporalFusionTransformer\": {}  # TemporalFusionTransformerModel을 기본 설정으로 사용\n",
        "    },\n",
        "    random_seed=42,\n",
        "    enable_ensemble=True  # 다양한 모델의 앙상블 활성화\n",
        ")\n"
      ],
      "metadata": {
        "id": "uvCykNvmE6yA"
      },
      "execution_count": null,
      "outputs": []
    }
  ]
}
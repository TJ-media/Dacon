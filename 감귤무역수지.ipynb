{
  "nbformat": 4,
  "nbformat_minor": 0,
  "metadata": {
    "colab": {
      "provenance": []
    },
    "kernelspec": {
      "name": "python3",
      "display_name": "Python 3"
    },
    "language_info": {
      "name": "python"
    }
  },
  "cells": [
    {
      "cell_type": "code",
      "execution_count": null,
      "metadata": {
        "colab": {
          "base_uri": "https://localhost:8080/"
        },
        "id": "7j5T14iHDgn6",
        "outputId": "5eb492dc-6a32-49ff-ede9-0bebf9e76bf0"
      },
      "outputs": [
        {
          "output_type": "stream",
          "name": "stdout",
          "text": [
            "기간\n",
            "2019-01-01     5.548387\n",
            "2019-01-02     5.548387\n",
            "2019-01-03     5.548387\n",
            "2019-01-04     5.548387\n",
            "2019-01-05     5.548387\n",
            "                ...    \n",
            "2023-01-28     8.677419\n",
            "2023-01-29     8.677419\n",
            "2023-01-30     8.677419\n",
            "2023-01-31     8.677419\n",
            "2023-02-01   -64.000000\n",
            "Freq: D, Name: 무역수지, Length: 1493, dtype: float64\n"
          ]
        }
      ],
      "source": [
        "import pandas as pd\n",
        "import numpy as np\n",
        "\n",
        "# 무역수지 데이터를 불러옵니다.\n",
        "trade_balance = pd.read_csv(\"/content/international_trade.csv\")\n",
        "\n",
        "# 감귤 데이터만 추출합니다.\n",
        "citrus_trade_balance = trade_balance[trade_balance[\"품목명\"] == \"감귤\"]\n",
        "\n",
        "# 감귤 데이터에서 기간, 품목명, 무역수지 열만 추출합니다.\n",
        "citrus_trade_balance = citrus_trade_balance[[\"기간\", \"품목명\", \"무역수지\"]]\n",
        "\n",
        "# 감귤 데이터의 기간 열을 datetime 형식으로 변환합니다.\n",
        "citrus_trade_balance[\"기간\"] = pd.to_datetime(citrus_trade_balance[\"기간\"])\n",
        "\n",
        "# 일자별 무역수지 값을 구합니다.\n",
        "daily_trade_balance = citrus_trade_balance.set_index(\"기간\").resample(\"D\").ffill()[\"무역수지\"]\n",
        "\n",
        "# 각 월의 일 수를 계산합니다.\n",
        "days_in_month = daily_trade_balance.index.to_period(\"M\").day\n",
        "\n",
        "# 월별로 일자별 무역수지를 나누어서 분배합니다.\n",
        "monthly_distributed_trade_balance = daily_trade_balance.groupby(daily_trade_balance.index.to_period(\"M\")).transform(lambda x: x / len(x))\n",
        "\n",
        "# 하루 단위의 감귤 데이터를 출력합니다.\n",
        "print(monthly_distributed_trade_balance)\n"
      ]
    },
    {
      "cell_type": "code",
      "source": [
        "import pandas as pd\n",
        "import numpy as np\n",
        "\n",
        "# 무역수지 데이터를 불러옵니다.\n",
        "trade_balance = pd.read_csv(\"/content/international_trade.csv\")\n",
        "\n",
        "# 감귤 데이터만 추출합니다.\n",
        "citrus_trade_balance = trade_balance[trade_balance[\"품목명\"] == \"감귤\"]\n",
        "\n",
        "# 감귤 데이터에서 기간, 품목명, 무역수지 열만 추출합니다.\n",
        "citrus_trade_balance = citrus_trade_balance[[\"기간\", \"품목명\", \"무역수지\"]]\n",
        "\n",
        "# 감귤 데이터의 기간 열을 datetime 형식으로 변환합니다.\n",
        "citrus_trade_balance[\"기간\"] = pd.to_datetime(citrus_trade_balance[\"기간\"])\n",
        "\n",
        "# 일자별 무역수지 값을 구합니다.\n",
        "daily_trade_balance = citrus_trade_balance.set_index(\"기간\").resample(\"D\").ffill()[\"무역수지\"]\n",
        "\n",
        "# 각 월의 일 수를 계산합니다.\n",
        "days_in_month = daily_trade_balance.index.to_period(\"M\").day\n",
        "\n",
        "# 월별로 일자별 무역수지를 나누어서 분배합니다.\n",
        "monthly_distributed_trade_balance = daily_trade_balance.groupby(daily_trade_balance.index.to_period(\"M\")).transform(lambda x: x / len(x))\n",
        "\n",
        "# 결과를 CSV 파일로 저장합니다.\n",
        "monthly_distributed_trade_balance.to_csv(\"/content/monthly_distributed_trade_balance.csv\")\n"
      ],
      "metadata": {
        "id": "RTqzZhwfDaio"
      },
      "execution_count": null,
      "outputs": []
    },
    {
      "cell_type": "code",
      "source": [
        "import pandas as pd\n",
        "\n",
        "# CSV 데이터를 불러옵니다.\n",
        "df = pd.read_csv(\"/content/train.csv\")\n",
        "\n",
        "# 필요한 열만 추출합니다.\n",
        "df_tg = df[df[\"item\"] == \"TG\"][[\"timestamp\", \"price(원/kg)\"]]\n",
        "\n",
        "# timestamp 열을 datetime 형식으로 변환합니다.\n",
        "df_tg[\"timestamp\"] = pd.to_datetime(df_tg[\"timestamp\"])\n",
        "\n",
        "# 날짜별로 price 값을 합칩니다.\n",
        "result = df_tg.groupby(\"timestamp\")[\"price(원/kg)\"].sum().reset_index()\n",
        "\n",
        "# 결과를 CSV 파일로 저장합니다.\n",
        "result.to_csv(\"tg_price_sum.csv\", index=False)"
      ],
      "metadata": {
        "id": "ZeJDw9w7LCeW"
      },
      "execution_count": null,
      "outputs": []
    },
    {
      "cell_type": "code",
      "source": [
        "import pandas as pd\n",
        "\n",
        "# 무역수지 데이터를 불러옵니다.\n",
        "trade_balance = pd.read_csv(\"monthly_distributed_trade_balance.csv\")\n",
        "\n",
        "# TG의 가격 합계 데이터를 불러옵니다.\n",
        "tg_price_sum = pd.read_csv(\"tg_price_sum.csv\")\n",
        "\n",
        "# \"timestamp\" 열을 datetime 형식으로 변환합니다.\n",
        "trade_balance[\"timestamp\"] = pd.to_datetime(trade_balance[\"timestamp\"])\n",
        "tg_price_sum[\"timestamp\"] = pd.to_datetime(tg_price_sum[\"timestamp\"])\n",
        "\n",
        "# \"timestamp\" 열을 기준으로 데이터를 합칩니다.\n",
        "combined_data = pd.merge(trade_balance, tg_price_sum, on=\"timestamp\")\n",
        "\n",
        "# 무역수지와 TG의 가격을 더해서 새로운 열을 만듭니다.\n",
        "combined_data[\"total_value\"] = combined_data[\"무역수지\"] + combined_data[\"price(원/kg)\"]\n",
        "\n",
        "# 결과를 CSV 파일로 저장합니다.\n",
        "combined_data.to_csv(\"combined_data.csv\", index=False)\n",
        "\n",
        "# 저장된 파일을 확인합니다.\n",
        "print(\"File 'combined_data.csv' has been created.\")\n"
      ],
      "metadata": {
        "colab": {
          "base_uri": "https://localhost:8080/"
        },
        "id": "C46v8ADqLrc6",
        "outputId": "6505a7c6-7c43-4175-b886-bf74f3ccc656"
      },
      "execution_count": null,
      "outputs": [
        {
          "output_type": "stream",
          "name": "stdout",
          "text": [
            "File 'combined_data.csv' has been created.\n"
          ]
        }
      ]
    }
  ]
}